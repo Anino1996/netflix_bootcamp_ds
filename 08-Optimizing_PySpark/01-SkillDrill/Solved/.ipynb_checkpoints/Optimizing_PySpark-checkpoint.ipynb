{
 "cells": [
  {
   "cell_type": "code",
   "execution_count": 1,
   "metadata": {
    "colab": {
     "base_uri": "https://localhost:8080/"
    },
    "id": "hIo12wfHg-Tl",
    "outputId": "9f988201-7114-4433-d928-c455cdd0f73d"
   },
   "outputs": [
    {
     "name": "stdout",
     "output_type": "stream",
     "text": [
      "Get:1 https://cloud.r-project.org/bin/linux/ubuntu bionic-cran40/ InRelease [3,626 B]\n",
      "Ign:2 https://developer.download.nvidia.com/compute/cuda/repos/ubuntu1804/x86_64  InRelease\n",
      "Ign:3 https://developer.download.nvidia.com/compute/machine-learning/repos/ubuntu1804/x86_64  InRelease\n",
      "Get:4 https://developer.download.nvidia.com/compute/cuda/repos/ubuntu1804/x86_64  Release [697 B]\n",
      "Hit:5 https://developer.download.nvidia.com/compute/machine-learning/repos/ubuntu1804/x86_64  Release\n",
      "Get:6 https://developer.download.nvidia.com/compute/cuda/repos/ubuntu1804/x86_64  Release.gpg [836 B]\n",
      "Get:7 http://security.ubuntu.com/ubuntu bionic-security InRelease [88.7 kB]\n",
      "Get:8 http://ppa.launchpad.net/c2d4u.team/c2d4u4.0+/ubuntu bionic InRelease [15.9 kB]\n",
      "Hit:9 http://archive.ubuntu.com/ubuntu bionic InRelease\n",
      "Get:11 http://archive.ubuntu.com/ubuntu bionic-updates InRelease [88.7 kB]\n",
      "Ign:12 https://developer.download.nvidia.com/compute/cuda/repos/ubuntu1804/x86_64  Packages\n",
      "Get:12 https://developer.download.nvidia.com/compute/cuda/repos/ubuntu1804/x86_64  Packages [741 kB]\n",
      "Hit:13 http://ppa.launchpad.net/cran/libgit2/ubuntu bionic InRelease\n",
      "Get:14 http://archive.ubuntu.com/ubuntu bionic-backports InRelease [74.6 kB]\n",
      "Get:15 http://security.ubuntu.com/ubuntu bionic-security/restricted amd64 Packages [396 kB]\n",
      "Hit:16 http://ppa.launchpad.net/deadsnakes/ppa/ubuntu bionic InRelease\n",
      "Get:17 http://security.ubuntu.com/ubuntu bionic-security/main amd64 Packages [2,116 kB]\n",
      "Hit:18 http://ppa.launchpad.net/graphics-drivers/ppa/ubuntu bionic InRelease\n",
      "Get:19 http://security.ubuntu.com/ubuntu bionic-security/multiverse amd64 Packages [24.7 kB]\n",
      "Get:20 http://ppa.launchpad.net/c2d4u.team/c2d4u4.0+/ubuntu bionic/main Sources [1,756 kB]\n",
      "Get:21 http://archive.ubuntu.com/ubuntu bionic-updates/main amd64 Packages [2,546 kB]\n",
      "Get:22 http://ppa.launchpad.net/c2d4u.team/c2d4u4.0+/ubuntu bionic/main amd64 Packages [899 kB]\n",
      "Get:23 http://archive.ubuntu.com/ubuntu bionic-updates/multiverse amd64 Packages [31.6 kB]\n",
      "Get:24 http://archive.ubuntu.com/ubuntu bionic-updates/universe amd64 Packages [2,181 kB]\n",
      "Get:25 http://archive.ubuntu.com/ubuntu bionic-updates/restricted amd64 Packages [426 kB]\n",
      "Fetched 11.4 MB in 4s (3,020 kB/s)\n",
      "Reading package lists... Done\n"
     ]
    }
   ],
   "source": [
    "import os\n",
    "# Find the latest version of spark 3.0  from http://www-us.apache.org/dist/spark/ and enter as the spark version\n",
    "# For example:\n",
    "# spark_version = 'spark-3.0.1'\n",
    "spark_version = 'spark-3.0.2'\n",
    "os.environ['SPARK_VERSION']=spark_version\n",
    "\n",
    "# Install Spark and Java\n",
    "!apt-get update\n",
    "!apt-get install openjdk-11-jdk-headless -qq > /dev/null\n",
    "!wget -q http://www-us.apache.org/dist/spark/$SPARK_VERSION/$SPARK_VERSION-bin-hadoop2.7.tgz\n",
    "!tar xf $SPARK_VERSION-bin-hadoop2.7.tgz\n",
    "!pip install -q findspark\n",
    "\n",
    "# Set Environment Variables\n",
    "os.environ[\"JAVA_HOME\"] = \"/usr/lib/jvm/java-11-openjdk-amd64\"\n",
    "os.environ[\"SPARK_HOME\"] = f\"/content/{spark_version}-bin-hadoop2.7\"\n",
    "\n",
    "# Start a SparkSession\n",
    "import findspark\n",
    "findspark.init()"
   ]
  },
  {
   "cell_type": "code",
   "execution_count": 2,
   "metadata": {
    "colab": {
     "base_uri": "https://localhost:8080/"
    },
    "id": "s0L8T19KhJ0C",
    "outputId": "3cec4b41-6dcf-4255-b38d-571b97643001"
   },
   "outputs": [
    {
     "name": "stdout",
     "output_type": "stream",
     "text": [
      "--2021-04-24 01:36:30--  https://jdbc.postgresql.org/download/postgresql-42.2.9.jar\n",
      "Resolving jdbc.postgresql.org (jdbc.postgresql.org)... 72.32.157.228, 2001:4800:3e1:1::228\n",
      "Connecting to jdbc.postgresql.org (jdbc.postgresql.org)|72.32.157.228|:443... connected.\n",
      "HTTP request sent, awaiting response... 200 OK\n",
      "Length: 914037 (893K) [application/java-archive]\n",
      "Saving to: ‘postgresql-42.2.9.jar’\n",
      "\n",
      "postgresql-42.2.9.j 100%[===================>] 892.61K  5.54MB/s    in 0.2s    \n",
      "\n",
      "2021-04-24 01:36:31 (5.54 MB/s) - ‘postgresql-42.2.9.jar’ saved [914037/914037]\n",
      "\n"
     ]
    }
   ],
   "source": [
    "!wget https://jdbc.postgresql.org/download/postgresql-42.2.9.jar"
   ]
  },
  {
   "cell_type": "code",
   "execution_count": 41,
   "metadata": {
    "id": "GpxIH6IlhWcY"
   },
   "outputs": [],
   "source": [
    "# Start Spark session\n",
    "from pyspark.sql import SparkSession\n",
    "spark = SparkSession.builder.appName(\"Zillow Housing Prices\").config(\"spark.driver.extraClassPath\",\"/content/postgresql-42.2.9.jar\").getOrCreate()"
   ]
  },
  {
   "cell_type": "code",
   "execution_count": 42,
   "metadata": {
    "id": "rW6iuvmYhhiX"
   },
   "outputs": [],
   "source": [
    "# Read in data from S3 Bucket\n",
    "from pyspark import SparkFiles\n",
    "url = \"https://2u-data-curriculum-team.s3.amazonaws.com/dataviz-netflix/unit-7/zillow_housing_prices.csv\""
   ]
  },
  {
   "cell_type": "code",
   "execution_count": 43,
   "metadata": {
    "id": "DVfshjX1hleN"
   },
   "outputs": [],
   "source": [
    "#Create a temp view of your dataframe\n",
    "spark.sparkContext.addFile(url)\n",
    "zillow_housing_data = spark.read.option('header', 'true').csv(SparkFiles.get(\"zillow_housing_prices.csv\"), inferSchema=True, sep=',', timestampFormat=\"mm/dd/yy\")\n",
    "zillow_housing_data.createOrReplaceTempView(\"zillow\")"
   ]
  },
  {
   "cell_type": "code",
   "execution_count": 44,
   "metadata": {
    "colab": {
     "base_uri": "https://localhost:8080/"
    },
    "id": "2A5rol5lhnGI",
    "outputId": "8cc37ea4-7c54-4c4f-e4f6-6ecefa42a1cb"
   },
   "outputs": [
    {
     "name": "stdout",
     "output_type": "stream",
     "text": [
      "+--------------------+------------------+\n",
      "|           StateName|      averagePrice|\n",
      "+--------------------+------------------+\n",
      "|                Utah|          345200.0|\n",
      "|              Hawaii|         572868.75|\n",
      "|           Minnesota|256823.59550561797|\n",
      "|                Ohio| 179073.9393939394|\n",
      "|              Oregon| 342466.6666666667|\n",
      "|            Arkansas|162611.42857142858|\n",
      "|               Texas|266331.35135135136|\n",
      "|        North Dakota|230916.66666666666|\n",
      "|        Pennsylvania|246516.66666666666|\n",
      "|         Connecticut|291745.28301886795|\n",
      "|            Nebraska|191727.27272727274|\n",
      "|              Nevada|          327370.0|\n",
      "|          Washington|438228.30188679247|\n",
      "|            Illinois| 234485.7142857143|\n",
      "|            Oklahoma|162641.93548387097|\n",
      "|District of Columbia|          580100.0|\n",
      "|            Delaware| 276073.6842105263|\n",
      "|          New Mexico|          215550.0|\n",
      "|       West Virginia|          179200.0|\n",
      "|            Missouri|206980.26315789475|\n",
      "+--------------------+------------------+\n",
      "only showing top 20 rows\n",
      "\n"
     ]
    }
   ],
   "source": [
    "# Cast 2020-01 column as float and display the average price per state using Spark SQL\n",
    "spark.sql('''select StateName, sum(cast(`2020-01` as float))/count(`2020-01`) as averagePrice from zillow group by StateName''').show()\n"
   ]
  },
  {
   "cell_type": "code",
   "execution_count": 45,
   "metadata": {
    "colab": {
     "base_uri": "https://localhost:8080/"
    },
    "id": "SjNGNN6BhpKs",
    "outputId": "3f45c984-1009-4a8c-c4c0-3f0bc125d5e0"
   },
   "outputs": [
    {
     "name": "stdout",
     "output_type": "stream",
     "text": [
      "+--------------------+------------------+\n",
      "|           StateName|      averagePrice|\n",
      "+--------------------+------------------+\n",
      "|                Utah|  347562.962962963|\n",
      "|              Hawaii|          592525.0|\n",
      "|           Minnesota|261769.76744186046|\n",
      "|                Ohio|182818.30065359478|\n",
      "|              Oregon|348658.82352941175|\n",
      "|            Arkansas|165128.57142857142|\n",
      "|               Texas| 269829.6703296703|\n",
      "|        North Dakota|          232660.0|\n",
      "|        Pennsylvania| 250119.6261682243|\n",
      "|         Connecticut| 297518.8679245283|\n",
      "|            Nebraska|          198640.0|\n",
      "|              Nevada|          327770.0|\n",
      "|          Washington| 439433.3333333333|\n",
      "|            Illinois|232948.19277108434|\n",
      "|            Oklahoma|165754.83870967742|\n",
      "|District of Columbia|          575700.0|\n",
      "|            Delaware| 285189.4736842105|\n",
      "|          New Mexico|          228962.5|\n",
      "|       West Virginia|          184400.0|\n",
      "|            Missouri|209020.83333333334|\n",
      "+--------------------+------------------+\n",
      "only showing top 20 rows\n",
      "\n"
     ]
    }
   ],
   "source": [
    "# Repeat the same cast and average price for the month of February or 2020-02 using SparkSQL\n",
    "spark.sql('''select StateName, sum(cast(`2020-02` as float))/count(`2020-02`) as averagePrice from zillow group by StateName''').show()\n"
   ]
  },
  {
   "cell_type": "code",
   "execution_count": 46,
   "metadata": {
    "colab": {
     "base_uri": "https://localhost:8080/"
    },
    "id": "X1DBrdhmhrRb",
    "outputId": "55fe6720-7b49-4974-abff-ad4be65fd602"
   },
   "outputs": [
    {
     "name": "stdout",
     "output_type": "stream",
     "text": [
      "+-------------+------------------+\n",
      "|    StateName|      averagePrice|\n",
      "+-------------+------------------+\n",
      "|         Ohio|182818.30065359478|\n",
      "|     Arkansas|165128.57142857142|\n",
      "|     Nebraska|          198640.0|\n",
      "|     Oklahoma|165754.83870967742|\n",
      "|West Virginia|          184400.0|\n",
      "|         Iowa|        184290.625|\n",
      "|     Kentucky|          184020.0|\n",
      "|    Louisiana|196130.30303030304|\n",
      "|  Mississippi|         180293.75|\n",
      "|      Indiana|192643.83561643836|\n",
      "+-------------+------------------+\n",
      "\n"
     ]
    }
   ],
   "source": [
    "# Repeat the same cast and average price per state for the month of February, but filter out any states with greater than $200000 average price\n",
    "less_than_200000 = spark.sql('''with February as \n",
    "                  (select StateName, \n",
    "                  sum(cast(`2020-02` as float))/count(`2020-02`) as averagePrice \n",
    "                  from zillow group by StateName)\n",
    "                  select * from February where averagePrice <= 200000''')\n",
    "less_than_200000.show()"
   ]
  },
  {
   "cell_type": "code",
   "execution_count": 47,
   "metadata": {
    "id": "iA5Sa4JjhtUU"
   },
   "outputs": [],
   "source": [
    "# Convert your SparkSQL dataframe into a Pandas dataframe and save your Pandas dataframe into a CSV file\n",
    "pandas_under_200000 = less_than_200000.toPandas()\n",
    "pandas_under_200000\n",
    "pandas_under_200000.to_csv(\"under_200k.csv\")"
   ]
  }
 ],
 "metadata": {
  "colab": {
   "collapsed_sections": [],
   "name": "Optimizing_PySpark.ipynb",
   "provenance": []
  },
  "kernelspec": {
   "display_name": "Python 3",
   "language": "python",
   "name": "python3"
  },
  "language_info": {
   "codemirror_mode": {
    "name": "ipython",
    "version": 3
   },
   "file_extension": ".py",
   "mimetype": "text/x-python",
   "name": "python",
   "nbconvert_exporter": "python",
   "pygments_lexer": "ipython3",
   "version": "3.7.6"
  }
 },
 "nbformat": 4,
 "nbformat_minor": 4
}
