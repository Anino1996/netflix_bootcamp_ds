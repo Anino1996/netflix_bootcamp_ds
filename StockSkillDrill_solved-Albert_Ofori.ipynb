{
 "cells": [
  {
   "cell_type": "code",
   "execution_count": 14,
   "metadata": {},
   "outputs": [],
   "source": [
    "# Import the 'os' and 'csv' libraries\n",
    "import os\n",
    "import csv"
   ]
  },
  {
   "cell_type": "code",
   "execution_count": 4,
   "metadata": {},
   "outputs": [],
   "source": [
    "# Set path for importing our CSV file\n",
    "os.chdir(\"../Resources\")"
   ]
  },
  {
   "cell_type": "code",
   "execution_count": 43,
   "metadata": {},
   "outputs": [
    {
     "name": "stdout",
     "output_type": "stream",
     "text": [
      "DAY WITH HIGHEST PERCENTAGE CHANGE.\n",
      "Date: 3/12/2020\n",
      "Stock High: 2660.949951\n",
      "Stock Low: 2478.860107\n",
      "Volume: 8829380000\n",
      "Percentage Change: 5.71%\n"
     ]
    }
   ],
   "source": [
    "# Open a connection to the comma-delimited csv file \n",
    "with open('yahoo_stock.csv') as file:\n",
    "    \n",
    "    # Read in the CSV file using csv.DictReader() class\n",
    "    data=csv.DictReader(file, delimiter=',')\n",
    "    \n",
    "    # Create a variable to save our print row and greatest daily percent change\n",
    "    printrow=next(data)\n",
    "    max_pct=abs(round((float(printrow['Close'])-float(printrow['Open']))/float(printrow['Open'])*100,2))\n",
    "    # Iterate through each row\n",
    "    for row in data:\n",
    "        # For each row, calculate the daily percent change\n",
    "        pct=abs(round((float(row['Close'])-float(row['Open']))/float(row['Open'])*100,2))\n",
    "        # Check if the absolute daily percent change is greater than the previous max\n",
    "        if pct>max_pct:\n",
    "            # If true, store new greatest daily percent change and print row\n",
    "            max_pct=pct\n",
    "            printrow=row\n",
    "    # Print out the date, stock high, stock low, volume and percent change for the day with the greatest percent change\n",
    "    print(\"DAY WITH HIGHEST PERCENTAGE CHANGE.\")\n",
    "    print(f'Date: {printrow[\"Date\"]}\\nStock High: {printrow[\"High\"]}\\nStock Low: {printrow[\"Low\"]}\\nVolume: {printrow[\"Volume\"]}\\nPercentage Change: {max_pct}%')"
   ]
  },
  {
   "cell_type": "code",
   "execution_count": null,
   "metadata": {},
   "outputs": [],
   "source": []
  }
 ],
 "metadata": {
  "kernelspec": {
   "display_name": "Python 3",
   "language": "python",
   "name": "python3"
  },
  "language_info": {
   "codemirror_mode": {
    "name": "ipython",
    "version": 3
   },
   "file_extension": ".py",
   "mimetype": "text/x-python",
   "name": "python",
   "nbconvert_exporter": "python",
   "pygments_lexer": "ipython3",
   "version": "3.7.7"
  }
 },
 "nbformat": 4,
 "nbformat_minor": 4
}
